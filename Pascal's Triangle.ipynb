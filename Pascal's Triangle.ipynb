{
 "cells": [
  {
   "cell_type": "code",
   "execution_count": 1,
   "id": "d987e697",
   "metadata": {},
   "outputs": [],
   "source": [
    "\n",
    "layers = 11\n",
    "numsamples = 1000"
   ]
  },
  {
   "cell_type": "code",
   "execution_count": 2,
   "id": "9ed81238",
   "metadata": {},
   "outputs": [
    {
     "data": {
      "text/plain": [
       "<BarContainer object of 12 artists>"
      ]
     },
     "execution_count": 2,
     "metadata": {},
     "output_type": "execute_result"
    },
    {
     "data": {
      "image/png": "[encoded data removed]",
      "text/plain": [
       "<Figure size 432x288 with 1 Axes>"
      ]
     },
     "metadata": {
      "needs_background": "light"
     },
     "output_type": "display_data"
    }
   ],
   "source": [
    "\n",
    "import numpy as np\n",
    "import random\n",
    "\n",
    "import matplotlib.pyplot as plt\n",
    "\n",
    "arr = np.zeros(layers+1)\n",
    "for i in range(0,numsamples):\n",
    "    pos = 0\n",
    "    # Run through layers of pegs\n",
    "    for j in range(0,layers):\n",
    "        # Get random true or false\n",
    "        if bool(random.getrandbits(1)):\n",
    "            pos += 1\n",
    "    # Fill the bin below the peg\n",
    "    arr[pos] += 1\n",
    "plt.bar(np.arange(0,layers+1)+1,arr)"
   ]
  },
  {
   "cell_type": "code",
   "execution_count": null,
   "id": "2d482125",
   "metadata": {},
   "outputs": [],
   "source": []
  }
 ],
 "metadata": {
  "kernelspec": {
   "display_name": "Python 3",
   "language": "python",
   "name": "python3"
  },
  "language_info": {
   "codemirror_mode": {
    "name": "ipython",
    "version": 3
   },
   "file_extension": ".py",
   "mimetype": "text/x-python",
   "name": "python",
   "nbconvert_exporter": "python",
   "pygments_lexer": "ipython3",
   "version": "3.6.9"
  }
 },
 "nbformat": 4,
 "nbformat_minor": 5
}
